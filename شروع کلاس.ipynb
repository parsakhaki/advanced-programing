{
 "cells": [
  {
   "cell_type": "markdown",
   "id": "928b93a5-6a2b-46c5-ba11-b4f5799dba8d",
   "metadata": {},
   "source": [
    "# 1.1 namgozari"
   ]
  },
  {
   "cell_type": "code",
   "execution_count": 1,
   "id": "031ec9fd-1731-4623-a7d2-a394e518549a",
   "metadata": {},
   "outputs": [
    {
     "data": {
      "text/plain": [
       "30"
      ]
     },
     "execution_count": 1,
     "metadata": {},
     "output_type": "execute_result"
    }
   ],
   "source": [
    "integerNumber = 10+20\n",
    "integerNumber"
   ]
  },
  {
   "cell_type": "code",
   "execution_count": 2,
   "id": "4c8c549a-2cff-4b54-a4ef-b5ad6bfbcd59",
   "metadata": {},
   "outputs": [
    {
     "data": {
      "text/plain": [
       "100"
      ]
     },
     "execution_count": 2,
     "metadata": {},
     "output_type": "execute_result"
    }
   ],
   "source": [
    "parsa_khan = 40+60\n",
    "parsa_khan"
   ]
  },
  {
   "cell_type": "markdown",
   "id": "8fc18c1b-7e27-406b-9c59-16b266608e0b",
   "metadata": {},
   "source": [
    "# 1.2 string"
   ]
  },
  {
   "cell_type": "code",
   "execution_count": 3,
   "id": "196c84bc-84d8-4534-ab61-066cf9b3d5e7",
   "metadata": {},
   "outputs": [],
   "source": [
    "myName = 'parsa'"
   ]
  },
  {
   "cell_type": "code",
   "execution_count": 4,
   "id": "2fe319a0-3f35-4d3e-b2b0-93171e6b5d7a",
   "metadata": {},
   "outputs": [
    {
     "name": "stdout",
     "output_type": "stream",
     "text": [
      "parsa\n"
     ]
    }
   ],
   "source": [
    "print(myName)"
   ]
  },
  {
   "cell_type": "code",
   "execution_count": 5,
   "id": "63b0b4c9-be8a-4c1f-baed-fa5742221ab8",
   "metadata": {},
   "outputs": [
    {
     "data": {
      "text/plain": [
       "5"
      ]
     },
     "execution_count": 5,
     "metadata": {},
     "output_type": "execute_result"
    }
   ],
   "source": [
    "len(myName)"
   ]
  },
  {
   "cell_type": "code",
   "execution_count": 6,
   "id": "494a2054-e2c7-4b0e-87ce-eb843e971bdf",
   "metadata": {},
   "outputs": [
    {
     "name": "stdout",
     "output_type": "stream",
     "text": [
      "p\n"
     ]
    }
   ],
   "source": [
    "print(myName[0])"
   ]
  },
  {
   "cell_type": "code",
   "execution_count": 7,
   "id": "82831c78-8e27-4c1e-af06-2f6f2cb23e5e",
   "metadata": {},
   "outputs": [
    {
     "data": {
      "text/plain": [
       "'p'"
      ]
     },
     "execution_count": 7,
     "metadata": {},
     "output_type": "execute_result"
    }
   ],
   "source": [
    "myName[0]"
   ]
  },
  {
   "cell_type": "code",
   "execution_count": 8,
   "id": "7559b767-85eb-435a-8154-379aad7f5798",
   "metadata": {},
   "outputs": [
    {
     "data": {
      "text/plain": [
       "'a'"
      ]
     },
     "execution_count": 8,
     "metadata": {},
     "output_type": "execute_result"
    }
   ],
   "source": [
    "myName[1]"
   ]
  },
  {
   "cell_type": "code",
   "execution_count": 9,
   "id": "e3af9e63-0a0f-49db-bd7a-500413b9bf18",
   "metadata": {},
   "outputs": [
    {
     "data": {
      "text/plain": [
       "'a'"
      ]
     },
     "execution_count": 9,
     "metadata": {},
     "output_type": "execute_result"
    }
   ],
   "source": [
    "myName[-1]"
   ]
  },
  {
   "cell_type": "code",
   "execution_count": 10,
   "id": "9a4d4920-75d2-4b70-9369-a986495a39b9",
   "metadata": {},
   "outputs": [
    {
     "data": {
      "text/plain": [
       "'a'"
      ]
     },
     "execution_count": 10,
     "metadata": {},
     "output_type": "execute_result"
    }
   ],
   "source": [
    "x=len(myName)\n",
    "myName[x-1]"
   ]
  },
  {
   "cell_type": "code",
   "execution_count": 11,
   "id": "847e7da1-4f5a-41d9-bc8a-016f7fa409e0",
   "metadata": {},
   "outputs": [
    {
     "data": {
      "text/plain": [
       "'a'"
      ]
     },
     "execution_count": 11,
     "metadata": {},
     "output_type": "execute_result"
    }
   ],
   "source": [
    "myName[len(myName)-1]"
   ]
  },
  {
   "cell_type": "code",
   "execution_count": 12,
   "id": "fbd4e46b-d973-45e4-95df-f40d0b517a2c",
   "metadata": {},
   "outputs": [
    {
     "data": {
      "text/plain": [
       "'ar'"
      ]
     },
     "execution_count": 12,
     "metadata": {},
     "output_type": "execute_result"
    }
   ],
   "source": [
    "myName[1:3]"
   ]
  },
  {
   "cell_type": "code",
   "execution_count": 13,
   "id": "849ba54a-9344-43cd-a09e-32e4c82e6f36",
   "metadata": {},
   "outputs": [
    {
     "data": {
      "text/plain": [
       "'parsa khaki'"
      ]
     },
     "execution_count": 13,
     "metadata": {},
     "output_type": "execute_result"
    }
   ],
   "source": [
    "myFamilly =' khaki'\n",
    "myFullName = myName + myFamilly\n",
    "myFullName"
   ]
  },
  {
   "cell_type": "code",
   "execution_count": 14,
   "id": "00effb4c-5fa9-4b2c-9900-1518a3be55f2",
   "metadata": {},
   "outputs": [
    {
     "data": {
      "text/plain": [
       "'parsakhakiparsakhaki'"
      ]
     },
     "execution_count": 14,
     "metadata": {},
     "output_type": "execute_result"
    }
   ],
   "source": [
    "myFamilly ='khaki'\n",
    "myFullName = myName + myFamilly\n",
    "myFullName*2"
   ]
  },
  {
   "cell_type": "code",
   "execution_count": 15,
   "id": "56041cb0-4686-4232-8177-5b8f41300c9e",
   "metadata": {},
   "outputs": [
    {
     "name": "stdout",
     "output_type": "stream",
     "text": [
      "2\n",
      "11\n"
     ]
    }
   ],
   "source": [
    "tempInt = 1\n",
    "tempStr = '1'\n",
    "print(tempInt*2)\n",
    "print(tempStr*2)\n",
    "temp=\"\"\"asasasasaas\n",
    "asasassdfssd\n",
    "asdgfddfrd\"\"\""
   ]
  },
  {
   "cell_type": "code",
   "execution_count": 16,
   "id": "784ad226-f909-400d-bd78-340d12d9befe",
   "metadata": {},
   "outputs": [
    {
     "data": {
      "text/plain": [
       "0"
      ]
     },
     "execution_count": 16,
     "metadata": {},
     "output_type": "execute_result"
    }
   ],
   "source": [
    "myName.find('pa')"
   ]
  },
  {
   "cell_type": "markdown",
   "id": "ab07cbfd-4dcc-4ed6-8504-56db3462a319",
   "metadata": {},
   "source": [
    "### tamrin"
   ]
  },
  {
   "cell_type": "code",
   "execution_count": null,
   "id": "3e528a11-3d22-4bd3-a2f7-a5d783c45c3b",
   "metadata": {},
   "outputs": [],
   "source": []
  },
  {
   "cell_type": "code",
   "execution_count": null,
   "id": "995aa244-cc4a-4f89-a96e-f4032ddaf24f",
   "metadata": {},
   "outputs": [],
   "source": []
  },
  {
   "cell_type": "markdown",
   "id": "5faec80a-e818-44a1-ad0e-85f44834f9d8",
   "metadata": {},
   "source": [
    "# edame"
   ]
  },
  {
   "cell_type": "code",
   "execution_count": 17,
   "id": "29722dea-73c9-4bdb-90c2-2c29bd3b616d",
   "metadata": {},
   "outputs": [
    {
     "data": {
      "text/plain": [
       "'p'"
      ]
     },
     "execution_count": 17,
     "metadata": {},
     "output_type": "execute_result"
    }
   ],
   "source": [
    "myFullName[0]"
   ]
  },
  {
   "cell_type": "code",
   "execution_count": 18,
   "id": "836353e5-53d7-46c0-9361-49b0e5b0700e",
   "metadata": {},
   "outputs": [],
   "source": [
    "myBrotherName='kiavash'"
   ]
  },
  {
   "cell_type": "code",
   "execution_count": 19,
   "id": "42c68787-b5ff-4f7e-bb73-60518b434e52",
   "metadata": {},
   "outputs": [
    {
     "data": {
      "text/plain": [
       "'kiavashkhaki'"
      ]
     },
     "execution_count": 19,
     "metadata": {},
     "output_type": "execute_result"
    }
   ],
   "source": [
    "myBrotherFullName = myFullName.replace(myName,myBrotherName)\n",
    "myBrotherFullName"
   ]
  },
  {
   "cell_type": "code",
   "execution_count": 20,
   "id": "abbb0c4f-521a-4aff-95f3-96b74bae3caa",
   "metadata": {},
   "outputs": [
    {
     "data": {
      "text/plain": [
       "'parsaparsakhakikhaki'"
      ]
     },
     "execution_count": 20,
     "metadata": {},
     "output_type": "execute_result"
    }
   ],
   "source": [
    "myDoubleFullName= myName*2 + myFamilly*2\n",
    "myDoubleFullName"
   ]
  },
  {
   "cell_type": "code",
   "execution_count": 21,
   "id": "996a2113-ad64-482e-a1dc-4685ffc0b6fd",
   "metadata": {},
   "outputs": [
    {
     "data": {
      "text/plain": [
       "'parsa'"
      ]
     },
     "execution_count": 21,
     "metadata": {},
     "output_type": "execute_result"
    }
   ],
   "source": [
    "myName"
   ]
  },
  {
   "cell_type": "code",
   "execution_count": 22,
   "id": "de82bb44-8b00-40ed-ab1c-50ec76fa78e3",
   "metadata": {},
   "outputs": [
    {
     "data": {
      "text/plain": [
       "'kiavash'"
      ]
     },
     "execution_count": 22,
     "metadata": {},
     "output_type": "execute_result"
    }
   ],
   "source": [
    "myBrotherName"
   ]
  },
  {
   "cell_type": "code",
   "execution_count": 23,
   "id": "7d85fa07-75a1-4813-8969-132152ffae18",
   "metadata": {},
   "outputs": [
    {
     "data": {
      "text/plain": [
       "'kiavashkiavashkhakikhaki'"
      ]
     },
     "execution_count": 23,
     "metadata": {},
     "output_type": "execute_result"
    }
   ],
   "source": [
    "a = myDoubleFullName.replace(myName,myBrotherName)\n",
    "a"
   ]
  },
  {
   "cell_type": "code",
   "execution_count": 24,
   "id": "3bd1edcf-c588-4730-af66-6eb6986ec452",
   "metadata": {},
   "outputs": [
    {
     "data": {
      "text/plain": [
       "'PARSA'"
      ]
     },
     "execution_count": 24,
     "metadata": {},
     "output_type": "execute_result"
    }
   ],
   "source": [
    "myName.upper()"
   ]
  },
  {
   "cell_type": "code",
   "execution_count": 25,
   "id": "043d7cd7-3202-4be1-9137-08c47258968b",
   "metadata": {},
   "outputs": [
    {
     "data": {
      "text/plain": [
       "True"
      ]
     },
     "execution_count": 25,
     "metadata": {},
     "output_type": "execute_result"
    }
   ],
   "source": [
    "myName.isalpha()"
   ]
  },
  {
   "cell_type": "code",
   "execution_count": 26,
   "id": "910e8c62-1ae3-4e15-86dd-245af1608d70",
   "metadata": {},
   "outputs": [],
   "source": [
    "myTeacherName = \"amir hoshang hoseinpour dehkordi\""
   ]
  },
  {
   "cell_type": "code",
   "execution_count": 27,
   "id": "b594d881-9cd0-4b02-9c23-ef653d965312",
   "metadata": {},
   "outputs": [
    {
     "data": {
      "text/plain": [
       "['amir', 'hoshang', 'hoseinpour', 'dehkordi']"
      ]
     },
     "execution_count": 27,
     "metadata": {},
     "output_type": "execute_result"
    }
   ],
   "source": [
    "myTeacherName.split(' ')"
   ]
  },
  {
   "cell_type": "code",
   "execution_count": 28,
   "id": "6af39e13-6442-45ec-b9fa-7d00f7b36a72",
   "metadata": {},
   "outputs": [
    {
     "name": "stdout",
     "output_type": "stream",
     "text": [
      "['17', '47', '33']\n"
     ]
    }
   ],
   "source": [
    "time = '17:47:33'\n",
    "splitedTime = time.split(':')\n",
    "print(splitedTime)"
   ]
  },
  {
   "cell_type": "code",
   "execution_count": 29,
   "id": "254d8380-002c-41e0-896d-b24ff203ca8b",
   "metadata": {},
   "outputs": [
    {
     "name": "stdout",
     "output_type": "stream",
     "text": [
      "Help on built-in function upper:\n",
      "\n",
      "upper() method of builtins.str instance\n",
      "    Return a copy of the string converted to uppercase.\n",
      "\n"
     ]
    }
   ],
   "source": [
    "help(myName.upper)"
   ]
  },
  {
   "cell_type": "code",
   "execution_count": 30,
   "id": "a67ed12d-b54a-48bd-9d08-16a7a3a0e140",
   "metadata": {},
   "outputs": [
    {
     "data": {
      "text/plain": [
       "['__add__',\n",
       " '__class__',\n",
       " '__contains__',\n",
       " '__delattr__',\n",
       " '__dir__',\n",
       " '__doc__',\n",
       " '__eq__',\n",
       " '__format__',\n",
       " '__ge__',\n",
       " '__getattribute__',\n",
       " '__getitem__',\n",
       " '__getnewargs__',\n",
       " '__getstate__',\n",
       " '__gt__',\n",
       " '__hash__',\n",
       " '__init__',\n",
       " '__init_subclass__',\n",
       " '__iter__',\n",
       " '__le__',\n",
       " '__len__',\n",
       " '__lt__',\n",
       " '__mod__',\n",
       " '__mul__',\n",
       " '__ne__',\n",
       " '__new__',\n",
       " '__reduce__',\n",
       " '__reduce_ex__',\n",
       " '__repr__',\n",
       " '__rmod__',\n",
       " '__rmul__',\n",
       " '__setattr__',\n",
       " '__sizeof__',\n",
       " '__str__',\n",
       " '__subclasshook__',\n",
       " 'capitalize',\n",
       " 'casefold',\n",
       " 'center',\n",
       " 'count',\n",
       " 'encode',\n",
       " 'endswith',\n",
       " 'expandtabs',\n",
       " 'find',\n",
       " 'format',\n",
       " 'format_map',\n",
       " 'index',\n",
       " 'isalnum',\n",
       " 'isalpha',\n",
       " 'isascii',\n",
       " 'isdecimal',\n",
       " 'isdigit',\n",
       " 'isidentifier',\n",
       " 'islower',\n",
       " 'isnumeric',\n",
       " 'isprintable',\n",
       " 'isspace',\n",
       " 'istitle',\n",
       " 'isupper',\n",
       " 'join',\n",
       " 'ljust',\n",
       " 'lower',\n",
       " 'lstrip',\n",
       " 'maketrans',\n",
       " 'partition',\n",
       " 'removeprefix',\n",
       " 'removesuffix',\n",
       " 'replace',\n",
       " 'rfind',\n",
       " 'rindex',\n",
       " 'rjust',\n",
       " 'rpartition',\n",
       " 'rsplit',\n",
       " 'rstrip',\n",
       " 'split',\n",
       " 'splitlines',\n",
       " 'startswith',\n",
       " 'strip',\n",
       " 'swapcase',\n",
       " 'title',\n",
       " 'translate',\n",
       " 'upper',\n",
       " 'zfill']"
      ]
     },
     "execution_count": 30,
     "metadata": {},
     "output_type": "execute_result"
    }
   ],
   "source": [
    "dir(myName)"
   ]
  },
  {
   "cell_type": "code",
   "execution_count": 31,
   "id": "0b24ea44-ac1e-46d0-87e1-11e8e816274b",
   "metadata": {},
   "outputs": [
    {
     "name": "stdout",
     "output_type": "stream",
     "text": [
      "A\n",
      "B\tC\n"
     ]
    }
   ],
   "source": [
    "tempString ='A\\nB\\tC'\n",
    "print(tempString)"
   ]
  },
  {
   "cell_type": "code",
   "execution_count": 32,
   "id": "396c5e37-dd9e-4c2e-bccf-2cfa8178b91f",
   "metadata": {},
   "outputs": [
    {
     "name": "stdout",
     "output_type": "stream",
     "text": [
      "\"\n"
     ]
    }
   ],
   "source": [
    "print('\\\"')"
   ]
  },
  {
   "cell_type": "markdown",
   "id": "adb1c25d-bff5-40f3-8c7d-79f376c9b407",
   "metadata": {},
   "source": [
    "# if"
   ]
  },
  {
   "cell_type": "code",
   "execution_count": 33,
   "id": "025d5a37-d800-4500-9881-764e0d85df3b",
   "metadata": {},
   "outputs": [
    {
     "name": "stdout",
     "output_type": "stream",
     "text": [
      "salam\n"
     ]
    }
   ],
   "source": [
    "if True:\n",
    "    print(\"salam\")"
   ]
  },
  {
   "cell_type": "code",
   "execution_count": 34,
   "id": "0362a2b6-6c64-4c5a-8f1a-e04a568a4099",
   "metadata": {},
   "outputs": [],
   "source": [
    "if False:\n",
    "    print(\"salam\")"
   ]
  },
  {
   "cell_type": "code",
   "execution_count": 35,
   "id": "9cc1d90c-a5dd-48d3-9704-9841c16e953c",
   "metadata": {},
   "outputs": [
    {
     "name": "stdout",
     "output_type": "stream",
     "text": [
      "salam\n"
     ]
    }
   ],
   "source": [
    "if 3:\n",
    "    print(\"salam\")"
   ]
  },
  {
   "cell_type": "code",
   "execution_count": 36,
   "id": "87a4eb89-21b2-4d40-994f-093963a2dba9",
   "metadata": {},
   "outputs": [],
   "source": [
    "if 0:\n",
    "    print(\"salam\")"
   ]
  },
  {
   "cell_type": "code",
   "execution_count": 37,
   "id": "556a70c2-57e6-4862-afeb-72a53910f235",
   "metadata": {},
   "outputs": [
    {
     "name": "stdout",
     "output_type": "stream",
     "text": [
      "salam\n"
     ]
    }
   ],
   "source": [
    "if \"Amir\":\n",
    "    print(\"salam\")"
   ]
  },
  {
   "cell_type": "code",
   "execution_count": 38,
   "id": "95282013-2d8c-4cee-970b-5718b2b8bf76",
   "metadata": {},
   "outputs": [
    {
     "name": "stdout",
     "output_type": "stream",
     "text": [
      "salam\n"
     ]
    }
   ],
   "source": [
    "if \" \":\n",
    "    print(\"salam\")"
   ]
  },
  {
   "cell_type": "code",
   "execution_count": 39,
   "id": "98c853a6-66ce-4f36-93e8-51e37be03321",
   "metadata": {},
   "outputs": [
    {
     "name": "stdout",
     "output_type": "stream",
     "text": [
      "your name is short\n"
     ]
    }
   ],
   "source": [
    "myName =\"parsa\"\n",
    "if len(myName)>=7:\n",
    "    print(\"yor name is long\")\n",
    "else:\n",
    "    print(\"your name is short\")"
   ]
  },
  {
   "cell_type": "code",
   "execution_count": 40,
   "id": "014ed4a3-173a-493a-817b-8f6c4c0db577",
   "metadata": {},
   "outputs": [
    {
     "name": "stdout",
     "output_type": "stream",
     "text": [
      "yor name is long\n"
     ]
    }
   ],
   "source": [
    "if len(myFullName)>=7:\n",
    "    print(\"yor name is long\")\n",
    "else:\n",
    "    print(\"your name is short\")"
   ]
  },
  {
   "cell_type": "code",
   "execution_count": 41,
   "id": "d7ba0a64-7a28-4326-9f86-cbc7cb75aa23",
   "metadata": {},
   "outputs": [
    {
     "name": "stdout",
     "output_type": "stream",
     "text": [
      "short\n"
     ]
    }
   ],
   "source": [
    "inputName = \"ava\"\n",
    "if len(inputName)>5:\n",
    "    print(\"long\")\n",
    "elif len(inputName)>3:\n",
    "    print(\"mediume\")\n",
    "else:\n",
    "    print(\"short\")"
   ]
  },
  {
   "cell_type": "code",
   "execution_count": 42,
   "id": "e3f51128-575c-476c-b7e5-e97c871fc465",
   "metadata": {},
   "outputs": [
    {
     "name": "stdout",
     "output_type": "stream",
     "text": [
      "بزرگ فرد\n"
     ]
    }
   ],
   "source": [
    "inputAge=25\n",
    "if inputAge >20:\n",
    "    if inputAge % 2:\n",
    "        print(\"بزرگ فرد\")\n",
    "    else:\n",
    "       print(\"زوج بزرگ\")\n",
    "else: \n",
    "    if inputAge % 2:\n",
    "       print(\"کوچک فرد\")\n",
    "    else:\n",
    "         print(\"کوچک زوج\")"
   ]
  },
  {
   "cell_type": "markdown",
   "id": "75a7db0e-9b7c-4111-b435-2708ec128d52",
   "metadata": {},
   "source": [
    "# loops"
   ]
  },
  {
   "cell_type": "code",
   "execution_count": 43,
   "id": "67665f2a-a3ed-4a30-a68a-f2ab8ea36cb4",
   "metadata": {},
   "outputs": [
    {
     "name": "stdout",
     "output_type": "stream",
     "text": [
      "3\n",
      "2\n",
      "1\n"
     ]
    }
   ],
   "source": [
    "tempInt = 3\n",
    "while tempInt>0:\n",
    "    print(tempInt)\n",
    "    tempInt -=1\n",
    "    "
   ]
  },
  {
   "cell_type": "markdown",
   "id": "6ec67e3d-2f9b-4707-a423-ebe2e29918c4",
   "metadata": {},
   "source": [
    "## fiboacci<100"
   ]
  },
  {
   "cell_type": "code",
   "execution_count": 44,
   "id": "30304655-a095-4819-aa30-ea87ba02a0d4",
   "metadata": {},
   "outputs": [
    {
     "name": "stdout",
     "output_type": "stream",
     "text": [
      "0\n",
      "1\n",
      "1\n",
      "2\n",
      "3\n",
      "5\n",
      "8\n",
      "13\n",
      "21\n",
      "34\n",
      "55\n",
      "89\n"
     ]
    }
   ],
   "source": [
    "x = 0\n",
    "x1=1\n",
    "while x1<80:\n",
    "    if x<1:\n",
    "        print(x)\n",
    "        print(x+1)\n",
    "    y=x1+x\n",
    "    print(y)\n",
    "    x=x1\n",
    "    x1=y\n",
    "    "
   ]
  },
  {
   "cell_type": "code",
   "execution_count": 45,
   "id": "24e1bb62-2ab5-4a7e-bb68-5d11b7c16779",
   "metadata": {},
   "outputs": [
    {
     "name": "stdout",
     "output_type": "stream",
     "text": [
      "not prime\n"
     ]
    }
   ],
   "source": [
    "P=8\n",
    "tempP=8\n",
    "mark = False\n",
    "while tempP>=2:\n",
    "    if P%tempP==0:\n",
    "        mark = True\n",
    "    tempP -=1\n",
    "if mark:\n",
    "    print('not prime')\n",
    "else:\n",
    "    print('is not prime')\n",
    "    "
   ]
  },
  {
   "cell_type": "markdown",
   "id": "696041fc-6a72-4e52-909d-de2c5d0a112f",
   "metadata": {},
   "source": [
    "## for loop"
   ]
  },
  {
   "cell_type": "code",
   "execution_count": 46,
   "id": "92c13b94-7977-469d-aaa1-f7e1a7d2fdda",
   "metadata": {},
   "outputs": [
    {
     "name": "stdout",
     "output_type": "stream",
     "text": [
      "10\n"
     ]
    }
   ],
   "source": [
    "sum = 0\n",
    "for i in range(5):\n",
    "    sum+= i\n",
    "print(sum)"
   ]
  },
  {
   "cell_type": "code",
   "execution_count": 47,
   "id": "6f13ad46-6fc4-49ee-a4e3-6623cc82725e",
   "metadata": {},
   "outputs": [
    {
     "name": "stdout",
     "output_type": "stream",
     "text": [
      "1\n"
     ]
    }
   ],
   "source": [
    "#n=int(input('what is your number?'))\n",
    "x=1\n",
    "#for i in range(1,n+1):\n",
    "   # x*=i\n",
    "print(x)"
   ]
  },
  {
   "cell_type": "code",
   "execution_count": 48,
   "id": "25c1a01c-7ef9-41e6-a2a6-d320a241ba60",
   "metadata": {},
   "outputs": [
    {
     "name": "stdout",
     "output_type": "stream",
     "text": [
      "1\n",
      "2\n",
      "hpe\n",
      "4\n",
      "5\n",
      "hpe\n",
      "7\n",
      "8\n",
      "hpe\n",
      "10\n",
      "11\n",
      "hpe\n",
      "13\n",
      "14\n",
      "hpe\n",
      "16\n",
      "17\n",
      "hpe\n",
      "19\n",
      "20\n",
      "hpe\n",
      "22\n",
      "23\n",
      "hpe\n",
      "25\n"
     ]
    }
   ],
   "source": [
    "for i in range(1,26):\n",
    "    if i%3==0:\n",
    "        print('hpe')\n",
    "    else:\n",
    "        print(i)"
   ]
  },
  {
   "cell_type": "code",
   "execution_count": 49,
   "id": "2646b779-6094-43fb-adc5-b71245d55f17",
   "metadata": {},
   "outputs": [],
   "source": [
    "sum=0\n",
    "#while True:\n",
    "   # sum+=1\n",
    "    #if sum%3==0:\n",
    "     #   print('hope')\n",
    "\n",
    "    "
   ]
  },
  {
   "cell_type": "markdown",
   "id": "99bb665c-eca1-4db2-9a5d-986edc7dd3bb",
   "metadata": {},
   "source": [
    "# list"
   ]
  },
  {
   "cell_type": "code",
   "execution_count": 50,
   "id": "7c37f9ee-4f8e-4ec0-9c25-3af1d1b1f379",
   "metadata": {},
   "outputs": [
    {
     "data": {
      "text/plain": [
       "35"
      ]
     },
     "execution_count": 50,
     "metadata": {},
     "output_type": "execute_result"
    }
   ],
   "source": [
    "tempList=[35,'amir',3.14]\n",
    "tempList[0]"
   ]
  },
  {
   "cell_type": "code",
   "execution_count": 51,
   "id": "bf6cd530-0d48-460f-85c3-6f6bee953c9b",
   "metadata": {},
   "outputs": [
    {
     "data": {
      "text/plain": [
       "[35, 'amir']"
      ]
     },
     "execution_count": 51,
     "metadata": {},
     "output_type": "execute_result"
    }
   ],
   "source": [
    "tempList[:-1]"
   ]
  },
  {
   "cell_type": "code",
   "execution_count": 52,
   "id": "a1bec92e-0347-4cf6-ad6d-7de234f438a1",
   "metadata": {},
   "outputs": [],
   "source": [
    "tempList= tempList+[2,'programing',2.76589]"
   ]
  },
  {
   "cell_type": "code",
   "execution_count": 53,
   "id": "013ad2a7-07c3-409d-ae7d-73f649ed7d1e",
   "metadata": {},
   "outputs": [],
   "source": [
    "#tempList.index('shayan',2)"
   ]
  },
  {
   "cell_type": "code",
   "execution_count": 54,
   "id": "5e2f69ad-3cf9-4c97-a4a0-d31021f2f9d6",
   "metadata": {},
   "outputs": [
    {
     "data": {
      "text/plain": [
       "[21, 25, 32, 35]"
      ]
     },
     "execution_count": 54,
     "metadata": {},
     "output_type": "execute_result"
    }
   ],
   "source": [
    "ages = [32, 25,35,21]\n",
    "ages.sort()\n",
    "ages"
   ]
  },
  {
   "cell_type": "code",
   "execution_count": 55,
   "id": "a59240e1-9733-4382-831f-ae05c823527e",
   "metadata": {},
   "outputs": [
    {
     "data": {
      "text/plain": [
       "[4, 5, 6]"
      ]
     },
     "execution_count": 55,
     "metadata": {},
     "output_type": "execute_result"
    }
   ],
   "source": [
    "nestedArray= [[1,2,3],[4,5,6],[7,8,9]]\n",
    "nestedArray[1]"
   ]
  },
  {
   "cell_type": "code",
   "execution_count": 56,
   "id": "ab3735ce-b893-407b-9848-0f7b0dd84cde",
   "metadata": {},
   "outputs": [
    {
     "data": {
      "text/plain": [
       "5"
      ]
     },
     "execution_count": 56,
     "metadata": {},
     "output_type": "execute_result"
    }
   ],
   "source": [
    "nestedArray[1][1]"
   ]
  },
  {
   "cell_type": "code",
   "execution_count": 57,
   "id": "9769e284-c0c9-4e6a-9ce4-c6e605de4686",
   "metadata": {},
   "outputs": [
    {
     "name": "stdout",
     "output_type": "stream",
     "text": [
      "20\n",
      "40\n",
      "50\n",
      "70\n",
      "80\n"
     ]
    }
   ],
   "source": [
    "myScores=[20,40,50,70,80]\n",
    "for i in myScores:\n",
    "    print(i)\n"
   ]
  },
  {
   "cell_type": "markdown",
   "id": "5dccbb0e-3f8f-4079-9ce7-9cd4bf9c18d4",
   "metadata": {},
   "source": [
    "# Q."
   ]
  },
  {
   "cell_type": "code",
   "execution_count": 58,
   "id": "80438941-d71d-4185-9181-5bae08757e35",
   "metadata": {},
   "outputs": [
    {
     "name": "stdout",
     "output_type": "stream",
     "text": [
      "chemestry = 50\n",
      "physics = 70\n",
      "ap = 80\n"
     ]
    }
   ],
   "source": [
    "myCourses = ['math','history','chemestry','physics','ap']\n",
    "for i in range(len(myScores)):\n",
    "    if myScores[i]>=50:\n",
    "        print(myCourses[i],'=',myScores[i])"
   ]
  },
  {
   "cell_type": "markdown",
   "id": "e9d8c734-1820-493d-81a0-69f744f59d51",
   "metadata": {},
   "source": [
    "# dictionary"
   ]
  },
  {
   "cell_type": "code",
   "execution_count": 59,
   "id": "03c090ff-9b6e-44dc-9c17-d26d1b18e84e",
   "metadata": {},
   "outputs": [
    {
     "name": "stdout",
     "output_type": "stream",
     "text": [
      "parsa\n",
      "19\n"
     ]
    }
   ],
   "source": [
    "myProfile = {'name':'parsa','age':19}\n",
    "print(myProfile['name'])\n",
    "print(myProfile['age'])"
   ]
  },
  {
   "cell_type": "code",
   "execution_count": 60,
   "id": "cb67054e-0910-4b3f-babd-5c40f07ba26e",
   "metadata": {},
   "outputs": [
    {
     "name": "stdout",
     "output_type": "stream",
     "text": [
      "parsa\n"
     ]
    }
   ],
   "source": [
    "nameDict = {'firstName':'parsa','lastName':'khaki'}\n",
    "print(nameDict['firstName'])"
   ]
  },
  {
   "cell_type": "code",
   "execution_count": 61,
   "id": "a2febbca-87fa-46f7-b07e-c03a87ab5756",
   "metadata": {},
   "outputs": [
    {
     "name": "stdout",
     "output_type": "stream",
     "text": [
      "{'name': {'firstName': 'parsa', 'lastName': 'khaki'}, 'age': 19}\n"
     ]
    }
   ],
   "source": [
    "myProfile = {'name':nameDict, 'age':19}\n",
    "print(myProfile)"
   ]
  },
  {
   "cell_type": "code",
   "execution_count": 62,
   "id": "72538174-d96f-4c69-8454-47c2521ebf60",
   "metadata": {},
   "outputs": [],
   "source": [
    "cities = ['tehran','boston','mehran']\n",
    "myProfile['cities']= cities"
   ]
  },
  {
   "cell_type": "code",
   "execution_count": 63,
   "id": "e943c19b-b3b8-4d64-b5ee-bdc7ed72a974",
   "metadata": {},
   "outputs": [
    {
     "name": "stdout",
     "output_type": "stream",
     "text": [
      "3\n"
     ]
    }
   ],
   "source": [
    "print(len(myProfile['cities']))"
   ]
  },
  {
   "cell_type": "code",
   "execution_count": 64,
   "id": "42b7fc9b-6abe-4314-bd6d-5fc86fd90688",
   "metadata": {},
   "outputs": [
    {
     "name": "stdout",
     "output_type": "stream",
     "text": [
      "mehran\n"
     ]
    }
   ],
   "source": [
    "print(myProfile['cities'][-1])"
   ]
  },
  {
   "cell_type": "code",
   "execution_count": 65,
   "id": "852630d9-7c3b-4c08-a901-a92c23acd43d",
   "metadata": {},
   "outputs": [
    {
     "name": "stdout",
     "output_type": "stream",
     "text": [
      "{'name': {'firstName': 'parsa', 'lastName': 'khaki'}, 'age': 19, 'cities': ['tehran', 'boston', 'mehran'], 'friends': [{'firstName': 'shayan', 'lastname': 'shahvari', 'age': 35, 'id': 0}, {'firstName': 'kiavash', 'lastName': 'abasnejad', 'age': 21, 'id': 1}]}\n"
     ]
    }
   ],
   "source": [
    "myProfile['friends'] = [{'firstName':'shayan','lastname':'shahvari','age':35,'id':0},{'firstName':'kiavash','lastName':'abasnejad','age':21,'id':1}]\n",
    "print(myProfile)"
   ]
  },
  {
   "cell_type": "code",
   "execution_count": 66,
   "id": "bb14230f-00c5-41bd-a00d-458dd13ed80c",
   "metadata": {},
   "outputs": [
    {
     "name": "stdout",
     "output_type": "stream",
     "text": [
      "[{'firstName': 'shayan', 'lastname': 'shahvari', 'age': 35, 'id': 0}, {'firstName': 'kiavash', 'lastName': 'abasnejad', 'age': 21, 'id': 1}, {'firstName': 'behrad', 'lastName': 'biniaz', 'age': 30, 'id': 2}]\n"
     ]
    }
   ],
   "source": [
    "myProfile['friends'].append({'firstName':'behrad','lastName':'biniaz','age':30,'id':2})\n",
    "print(myProfile['friends'])"
   ]
  },
  {
   "cell_type": "markdown",
   "id": "480c1187-b939-45ac-b589-a52017d0cdb5",
   "metadata": {},
   "source": [
    "# Q."
   ]
  },
  {
   "cell_type": "code",
   "execution_count": null,
   "id": "6d1fb55b-d532-4667-8df7-e4143dc9cb84",
   "metadata": {},
   "outputs": [],
   "source": []
  },
  {
   "cell_type": "markdown",
   "id": "cf727a59-9e88-43bf-8e6d-65f9d5b3c8f8",
   "metadata": {},
   "source": [
    "# DICT"
   ]
  },
  {
   "cell_type": "code",
   "execution_count": 67,
   "id": "90de56fc-6069-4218-8cce-fedd9619f29d",
   "metadata": {},
   "outputs": [
    {
     "data": {
      "text/plain": [
       "dict_values([{'firstName': 'parsa', 'lastName': 'khaki'}, 19, ['tehran', 'boston', 'mehran'], [{'firstName': 'shayan', 'lastname': 'shahvari', 'age': 35, 'id': 0}, {'firstName': 'kiavash', 'lastName': 'abasnejad', 'age': 21, 'id': 1}, {'firstName': 'behrad', 'lastName': 'biniaz', 'age': 30, 'id': 2}]])"
      ]
     },
     "execution_count": 67,
     "metadata": {},
     "output_type": "execute_result"
    }
   ],
   "source": [
    "myProfile.values()"
   ]
  },
  {
   "cell_type": "code",
   "execution_count": 68,
   "id": "3200a7ce-05da-4324-b563-1f35b12ed1d0",
   "metadata": {},
   "outputs": [
    {
     "data": {
      "text/plain": [
       "dict_keys(['name', 'age', 'cities', 'friends'])"
      ]
     },
     "execution_count": 68,
     "metadata": {},
     "output_type": "execute_result"
    }
   ],
   "source": [
    "myProfile.keys()"
   ]
  },
  {
   "cell_type": "code",
   "execution_count": 69,
   "id": "4b1a7951-e06d-4cef-bd39-2ae10f31e742",
   "metadata": {},
   "outputs": [
    {
     "name": "stdout",
     "output_type": "stream",
     "text": [
      "age vared shode ast\n"
     ]
    }
   ],
   "source": [
    "if \"age\" in myProfile.keys():\n",
    "    print(\"age vared shode ast\")\n",
    "else:\n",
    "    print(\"age ra vared kon\")"
   ]
  },
  {
   "cell_type": "code",
   "execution_count": 70,
   "id": "6ce31b9d-5f95-4a43-9049-c5afa30dd826",
   "metadata": {},
   "outputs": [],
   "source": [
    "tempFile= open('myProfile.txt','w')\n",
    "tempFile.write(str(myProfile))\n",
    "tempFile.close()"
   ]
  },
  {
   "cell_type": "markdown",
   "id": "6d7ddb31-be31-4f5f-9b9e-9818fb4082b7",
   "metadata": {},
   "source": [
    "# files"
   ]
  },
  {
   "cell_type": "code",
   "execution_count": 71,
   "id": "71e622d3-9924-4992-ae8e-66d9bb3ea3e3",
   "metadata": {},
   "outputs": [],
   "source": [
    "tempFile= open('myProfile.txt','w')\n",
    "tempFile.write(str(myProfile))\n",
    "tempFile.close()"
   ]
  },
  {
   "cell_type": "code",
   "execution_count": 72,
   "id": "ddab6a7c-6d02-4147-aa76-9c5a5cca47ff",
   "metadata": {},
   "outputs": [],
   "source": [
    "amirFile = open('amirProfile2.txt','r')\n",
    "amirProfile = amirFile.read()\n",
    "amirFile.close()"
   ]
  },
  {
   "cell_type": "code",
   "execution_count": 73,
   "id": "10e21135-b0ff-408c-9921-c8df318a92da",
   "metadata": {},
   "outputs": [
    {
     "name": "stdout",
     "output_type": "stream",
     "text": [
      "{'name': {'firstName': 'Amirhoshang', 'lastName': 'Hoseinpour Dehkordi'}, 'age': 34, 'cities': ['Tehran', 'Boston', 'Shahrekord'], 'farhadFriends': {'bestFriend': {'firstName': 'Philip', 'lastName': 'Fry', 'age': 35, 'id': 0}, 'lastButNotLeastFriend': {'firstName': 'Bender', 'lastName': 'Bending RodrÃ­guez', 'age': 4, 'id': 1}, 0: {'firstName': 'Bender1', 'lastName': 'Bending RodrÃ­guez', 'age': 4, 'id': 1}, 1: {'firstName': 'Bender2', 'lastName': 'Bending RodrÃ­guez', 'age': 4, 'id': 1}, 2: {'firstName': 'Bender3', 'lastName': 'Bending RodrÃ­guez', 'age': 4, 'id': 1}}, 'friends': [{'firstName': 'Philip', 'lastName': 'Fry', 'age': 35, 'id': 0}, {'firstName': 'Bender', 'lastName': 'Bending RodrÃ­guez', 'age': 4, 'id': 1}, {'firstName': 'Amy', 'lastName': 'Wong', 'age': 30, 'id': 2}]}\n"
     ]
    }
   ],
   "source": [
    "print(amirProfile)"
   ]
  },
  {
   "cell_type": "markdown",
   "id": "8874d5a8-7fc1-4c12-8a43-8656805b62b5",
   "metadata": {},
   "source": [
    "# function"
   ]
  },
  {
   "cell_type": "code",
   "execution_count": 74,
   "id": "36bc2b03-42c3-4e9d-bf5e-f3d16ac3b2df",
   "metadata": {},
   "outputs": [],
   "source": [
    "tempFile= open('myProfile.txt','w')\n",
    "tempFile.write(str(myProfile))\n",
    "tempFile.close()"
   ]
  },
  {
   "cell_type": "code",
   "execution_count": 75,
   "id": "e8104b68-1ec6-468c-8b06-6dffb72f7479",
   "metadata": {},
   "outputs": [],
   "source": [
    "tempFile= open('myProfile.txt','w')\n",
    "tempFile.write(str(myProfile))\n",
    "tempFile.close()"
   ]
  },
  {
   "cell_type": "code",
   "execution_count": 76,
   "id": "fe283d43-0370-4795-bd82-a47232d8c5e0",
   "metadata": {},
   "outputs": [],
   "source": [
    "tempFile= open('myProfile.txt','w')\n",
    "tempFile.write(str(myProfile))\n",
    "tempFile.close()"
   ]
  },
  {
   "cell_type": "code",
   "execution_count": 77,
   "id": "9eea2710-0c2d-4f24-8766-53a7bad832f4",
   "metadata": {},
   "outputs": [],
   "source": [
    "tempFile= open('myProfile.txt','w')\n",
    "tempFile.write(str(myProfile))\n",
    "tempFile.close()"
   ]
  },
  {
   "cell_type": "code",
   "execution_count": 78,
   "id": "d9aa0403-23c0-4692-84fa-e918d8fe7474",
   "metadata": {},
   "outputs": [],
   "source": [
    "def function_name(myInput):\n",
    "    print(myInput)\n",
    "    return myInput *2"
   ]
  },
  {
   "cell_type": "code",
   "execution_count": 79,
   "id": "74652fce-9b3c-4fa6-b13e-cbd3d1857f63",
   "metadata": {},
   "outputs": [
    {
     "name": "stdout",
     "output_type": "stream",
     "text": [
      "amir\n"
     ]
    },
    {
     "data": {
      "text/plain": [
       "'amiramir'"
      ]
     },
     "execution_count": 79,
     "metadata": {},
     "output_type": "execute_result"
    }
   ],
   "source": [
    "myFunctionValue = function_name('amir')\n",
    "myFunctionValue"
   ]
  },
  {
   "cell_type": "code",
   "execution_count": 80,
   "id": "e9193ace-6edf-47e5-859f-825542de2e83",
   "metadata": {},
   "outputs": [],
   "source": [
    "def fib(n):\n",
    "    x = 0\n",
    "    x1=1\n",
    "    while x1<80:\n",
    "        if x<1:\n",
    "            print(x)\n",
    "            print(x+1)\n",
    "        y=x1+x\n",
    "        print(n)\n",
    "        x=x1\n",
    "        x1=n\n",
    "    "
   ]
  },
  {
   "cell_type": "code",
   "execution_count": 81,
   "id": "4a8906bc-e983-4ab8-8551-f99d9ef38823",
   "metadata": {},
   "outputs": [
    {
     "name": "stdout",
     "output_type": "stream",
     "text": [
      "parsaparsaparsaparsaparsaparsaparsaparsa\n"
     ]
    }
   ],
   "source": [
    "n=3\n",
    "mult=1\n",
    "for i in range(n):\n",
    "    mult=mult*2\n",
    "a=mult\n",
    "print(myName *a)\n",
    "    "
   ]
  },
  {
   "cell_type": "code",
   "execution_count": 82,
   "id": "0bacf649-488b-4fc3-89ea-6d2037cd2644",
   "metadata": {},
   "outputs": [],
   "source": [
    "def power2(n):\n",
    "    mult=1\n",
    "    for i in range(n):\n",
    "        mult*=2\n",
    "    return mult"
   ]
  },
  {
   "cell_type": "code",
   "execution_count": 83,
   "id": "fba465de-0789-43d0-a5d1-230a1a990e22",
   "metadata": {},
   "outputs": [
    {
     "data": {
      "text/plain": [
       "8"
      ]
     },
     "execution_count": 83,
     "metadata": {},
     "output_type": "execute_result"
    }
   ],
   "source": [
    "power2(3)"
   ]
  },
  {
   "cell_type": "code",
   "execution_count": 84,
   "id": "7f634353-7701-4143-944a-6be8b414ede4",
   "metadata": {},
   "outputs": [],
   "source": [
    "def power_k(k,n):\n",
    "    for i in range(n):\n",
    "        k=k*k\n",
    "    return k"
   ]
  },
  {
   "cell_type": "code",
   "execution_count": 85,
   "id": "23113468-877a-4ea8-ab42-9e733b1cac57",
   "metadata": {},
   "outputs": [
    {
     "data": {
      "text/plain": [
       "10000"
      ]
     },
     "execution_count": 85,
     "metadata": {},
     "output_type": "execute_result"
    }
   ],
   "source": [
    "power_k(10,2)"
   ]
  },
  {
   "cell_type": "markdown",
   "id": "b31dcbca-6a63-449c-ae8a-e38e4609c3ba",
   "metadata": {},
   "source": [
    "# Data flow"
   ]
  },
  {
   "cell_type": "code",
   "execution_count": 86,
   "id": "95ab5b42-55a2-480b-b682-6bd43f856f16",
   "metadata": {},
   "outputs": [],
   "source": [
    "myProfile[\"id\"]= 2"
   ]
  },
  {
   "cell_type": "code",
   "execution_count": 87,
   "id": "3eec1043-28c9-4913-97f2-b762b5f322ac",
   "metadata": {},
   "outputs": [
    {
     "data": {
      "text/plain": [
       "{'name': {'firstName': 'parsa', 'lastName': 'khaki'},\n",
       " 'age': 19,\n",
       " 'cities': ['tehran', 'boston', 'mehran'],\n",
       " 'friends': [{'firstName': 'shayan',\n",
       "   'lastname': 'shahvari',\n",
       "   'age': 35,\n",
       "   'id': 0},\n",
       "  {'firstName': 'kiavash', 'lastName': 'abasnejad', 'age': 21, 'id': 1},\n",
       "  {'firstName': 'behrad', 'lastName': 'biniaz', 'age': 30, 'id': 2}],\n",
       " 'id': 2}"
      ]
     },
     "execution_count": 87,
     "metadata": {},
     "output_type": "execute_result"
    }
   ],
   "source": [
    "myProfile"
   ]
  },
  {
   "cell_type": "code",
   "execution_count": 88,
   "id": "82e2352b-0ea9-4f8f-ac46-ea88a669259f",
   "metadata": {},
   "outputs": [],
   "source": [
    "x= myProfile\n",
    "tempFile= open(str(myProfile['id'])+'.txt','w')\n",
    "tempFile.write(str(x))\n",
    "tempFile.close()"
   ]
  },
  {
   "cell_type": "markdown",
   "id": "e387510b-235c-461c-9570-7d83fce895c9",
   "metadata": {},
   "source": [
    "# Data analysis part"
   ]
  },
  {
   "cell_type": "code",
   "execution_count": null,
   "id": "13f76f53-68ef-4c42-9714-7e3bf93c7ea8",
   "metadata": {},
   "outputs": [],
   "source": []
  },
  {
   "cell_type": "code",
   "execution_count": 89,
   "id": "e35aac24-c7b2-4345-b2a7-240181e837d6",
   "metadata": {},
   "outputs": [
    {
     "name": "stdout",
     "output_type": "stream",
     "text": [
      "['1.txt', '10.txt', '11.txt', '12.txt', '13.txt', '14.txt', '16.txt', '17.txt', '18.txt', '19.txt', '2.txt', '4.txt', '5.txt', '6.txt', '7.txt', '8.txt', '9.txt']\n"
     ]
    }
   ],
   "source": [
    "import os\n",
    "arr = os.listdir('C:\\\\Users\\\\HP\\\\Documents\\\\advanced programing\\\\classmates')\n",
    "arr.sort\n",
    "print(arr)"
   ]
  },
  {
   "cell_type": "code",
   "execution_count": 90,
   "id": "207627f3-636a-44e8-a93b-dcce904b1870",
   "metadata": {},
   "outputs": [
    {
     "name": "stdout",
     "output_type": "stream",
     "text": [
      "{'name': {'first_name': 'Shayan', 'last_name': 'Shahvari'}, 'age': 20, 'cities': ['Tehran', 'Moscow', 'Kish'], 'friends': [{'first_name': 'Parsa', 'last_name': 'khaki', 'age': 30, 'id': 0}, {'first_name': 'Kiavash', 'last_name': 'abbasnejad', 'age': 37, 'id': 1}, {'first_name': 'Kourosh', 'last_name': 'ikani', 'age': 20}], 'id': 1}\n"
     ]
    }
   ],
   "source": [
    "f = open(\"classmates/1.txt\")\n",
    "data = f.read()\n",
    "f.close()\n",
    "print(data)"
   ]
  },
  {
   "cell_type": "code",
   "execution_count": 91,
   "id": "9cb0ed94-8255-43c6-8ac7-1f6011e8ab54",
   "metadata": {},
   "outputs": [
    {
     "name": "stdout",
     "output_type": "stream",
     "text": [
      "[{'name': {'first_name': 'Shayan', 'last_name': 'Shahvari'}, 'age': 20, 'cities': ['Tehran', 'Moscow', 'Kish'], 'friends': [{'first_name': 'Parsa', 'last_name': 'khaki', 'age': 30, 'id': 0}, {'first_name': 'Kiavash', 'last_name': 'abbasnejad', 'age': 37, 'id': 1}, {'first_name': 'Kourosh', 'last_name': 'ikani', 'age': 20}], 'id': 1}, {'name': {'firstName': 'amir_ali', 'lastName': 'mohammadi'}, 'age': 22, 'id': 10, 'cities': ['Tehran', 'kish', 'kabul'], 'friends': [{'firstName': 'kamran', 'lastName': 'Fry', 'age': 80, 'id': 0}, {'firstName': 'aligoodarz', 'lastName': 'baboli', 'age': 4, 'id': 1}, {'firstName': 'parham', 'lastName': 'Wong', 'age': 30, 'id': 2}]}, {'name': {'first_name': 'Parsa', 'last_name': 'Mollaei'}, 'age': 22, 'my_id': 11, 'cities': ['tehran', 'esfehan', 'kerman'], 'friends': [{'first_name': 'ali', 'last_name': 'Barkhodari', 'age': 22, 'id': '2'}, {'first_name': 'AmirHossein', 'last_name': 'yousefzade', 'age': 22, 'id': 2}, {'first_name': 'Parnian', 'last_name': 'Mollaei', 'age': 13, 'id': 3}]}, {'id': 12, 'name': 'Sina', 'age': 21, 'email': 'sina.sherkat@example.com', 'location': 'Kish'}, {'name': {'firstName': 'Fazel', 'lastName': 'Basiri'}, 'age': 25, 'cities': ['Bam', 'Shiraz', 'Kish'], 'friends': [{'firstName': 'Saeed', 'lastName': 'Ashrafian', 'age': 25}, {'firstName': 'Mahsa', 'lastName': 'Kzn', 'age': 22}, {'firstName': 'Alireza', 'lastName': 'PourMoghadam', 'age': 26}], 'id': 13}, {'name': {'first name': 'Mahsa', 'last name': 'kzn'}, 'age': 22, 'cities': ['Tehran', 'Shiraz', 'Rasht', 'Mashhad'], 'friends': [{'firstname': 'Fazel', 'Lastname': 'basiri', 'age': 25, 'id': 13}, {'firstname': 'Niayesh', 'lastname': 'Mohammadi', 'age': 22, 'id': 0}], 'id': 14}, {'name': {'firstname': 'Hesam', 'lastName': 'Fatemizadeh'}, 'age': 21, 'cities': ['TEHRAN', 'KISH', 'ABADAN'], 'friends': [{'firstname': 'mariam', 'lastname': 'shojaodin', 'age': 21, 'id': '100'}, {'firstname': 'abbas', 'lastname': 'ranjbar', 'age': 25, 'id': '101'}, {'firstname': 'ali', 'lastname': 'niazi', 'age': 23, 'id': 102}], 'id': 16}, {'name': {'first name': 'Mariam', 'last name': 'Shojaedin'}, 'age': 21, 'cities': ['Kaluga', 'Moscow', 'Sochi'], 'friends': [{'firstName': 'Mahsa', 'lastName': 'Rastaghi', 'age': 22, 'ID': '0'}, {'firstName': 'Hesam', 'lastName': 'Fatemizade', 'age': 21, 'ID': '1'}, {'firstName': 'Nika', 'lastName': 'Sadidi', 'age': 22, 'ID': '2'}, {'firstName': 'Ali', 'lastName': 'Niazi', 'age': 23, 'ID': '3'}], 'ID': 17}, {'Name': {'First name': 'Mahsa', 'Last name': 'Rastaghi'}, 'Age': 22, 'Cities': ['Kish', 'Shiraz', 'Tehran'], 'Friends': [{'first name': ' Mariam', 'Last name': 'Shojaedin', 'Age': 21, 'Id': 0}, {'first name': ' Nika', 'Last name': 'Sadidi', 'Age': 22, 'Id': 1}, {'first name': ' Hesam', 'Last name': 'Fatemi zadeh', 'Age': 21, 'Id': 2}, {'first name': 'Fatemeh', 'Last name': 'Sayyadi', 'Age': 22, 'Id': '3'}], 'Id': 18}, {'name': 'Mobina Mohammadiuon', 'age': 21, 'id': 19, 'cities': ['Tehran', 'Boston', 'Shahrkord'], 'friends': [{'firstName': 'Elaheh', 'lastName': 'HosseinAbadi', 'age': 21, 'id': 0}, {'firstName': 'Nika', 'lastName': 'Sadidi', 'age': 22, 'id': 1}, {'firstName': 'Azin', 'lastName': 'Esfandiari', 'age': 25, 'id': 2}]}, {'name': {'firstName': 'parsa', 'lastName': 'khaki'}, 'age': 19, 'cities': ['tehran', 'boston', 'mehran'], 'friends': [{'firstName': 'shayan', 'lastname': 'shahvari', 'age': 35, 'id': 0}, {'firstName': 'kiavash', 'lastName': 'abasnejad', 'age': 21, 'id': 1}, {'firstName': 'behrad', 'lastName': 'biniaz', 'age': 30, 'id': 2}], 'id': 2}, {'name': {'firstName': 'Zahra', 'lastName': 'Akhlaghipoor'}, 'age': 22, 'cities': ['Kish'], 'friends': [{'firstName': 'Tima', 'LastName': 'Kalhori', 'age': 19, 'id': 0}, {'firstName': 'Nikki', 'LastName': 'Khayyat', 'age': 21, 'id': 1}], 'id': 4}, {'firstName': 'Tima', 'lastName': 'Kalhori', 'age': 19, 'cities': ['Tehran', 'Boston', 'Shahrekord'], 'friends': [{'firstName': 'philip', 'lastName': 'fry', 'age': 35, 'id': 0}, {'firstName': 'zahra', 'lastName': 'akhlaghipoor', 'age': 22, 'id': 12}, {'firstName': 'leili', 'lastname': 'shabani', 'age': 27, 'id': 32}], 'id': 5}, {'name': {'firstname': 'Nikki', 'lastname': 'Khayyat'}, 'age': 23, 'cities': ['Tehran', 'Boston', 'Shahrekord'], 'friends': [{'firstname': 'Charles', 'lastname': 'Lec', 'age': 27, 'ID': 0}, {'firstname': 'Franco', 'lastname': 'Colapinto', 'age': 21, 'ID': 0}, {'firstname': 'Lewis', 'lastname': 'Hamilton', 'age': 40, 'ID': 0}], 'Id': 6}, {'name': {'firstname': 'Saba', 'surname': 'Sarlak'}, 'age': 20, 'cities': ['kl', 'iis', 'maha'], 'lastCity': ['kl'], 'friends': [{'firstname': 'elnaz', 'lastname': 'ahmad', 'age': 22, 'id': 0}, {'firstname': 'asal', 'lastname': 'sabaghzade', 'age': 26, 'id': 2}, {'firstname': 'setia', 'lastname': 'dehghan', 'id': 'bestfriend', 'age': 25}], 'id': 7}, {'name': {'first name': 'Mohammad', 'last name': 'Mohammad Khaninezhad'}, 'age': 20, 'cities': ['Tehran', 'Boston', 'Shahrekord'], 'friends': [{'first name': 'Shahrad', 'last name': 'Shahraki', 'age': 21, 'id': 0}, {'first name': 'Hossein', 'last name': 'Dehghan', 'age': 22, 'id': 1}, {'first name': 'Erfan', 'last name': 'Kasef', 'age': 23, 'id': 2}], 'id': 8}, {'name': {'first name': 'shahrad', 'last name': 'shahraki'}, 'age': 22, 'cities': ['birjand', 'khoosf', 'tabas'], 'friends': [{'first name': 'alireza', 'last name': 'balali', 'age': 7, 'id': 2}, {'first name': 'shahrokh', 'last name': 'shahmohammadi', 'age': 40, 'id': 7}, {'first name': 'saba', 'last name': 'samaani', 'age': 34, 'id': 5}], 'id': 9}]\n"
     ]
    }
   ],
   "source": [
    "import os \n",
    "import json\n",
    "listOfProfile=[]\n",
    "for i in arr:\n",
    "    f = open('classmates/'+i)\n",
    "    tempProfile = f.read()\n",
    "    convertedProfile = json.loads(tempProfile.replace(\"'\",\"\\\"\"))\n",
    "    listOfProfile.append(convertedProfile)\n",
    "    f.close()\n",
    "print(listOfProfile)\n",
    "    "
   ]
  },
  {
   "cell_type": "code",
   "execution_count": 92,
   "id": "70f4f12b-b977-492c-825c-971e69570201",
   "metadata": {},
   "outputs": [
    {
     "name": "stdout",
     "output_type": "stream",
     "text": [
      "{'name': {'first_name': 'Shayan', 'last_name': 'Shahvari'}, 'age': 20, 'cities': ['Tehran', 'Moscow', 'Kish'], 'friends': [{'first_name': 'Parsa', 'last_name': 'khaki', 'age': 30, 'id': 0}, {'first_name': 'Kiavash', 'last_name': 'abbasnejad', 'age': 37, 'id': 1}, {'first_name': 'Kourosh', 'last_name': 'ikani', 'age': 20}], 'id': 1}\n"
     ]
    }
   ],
   "source": [
    "import json\n",
    "doubleQProfile = json.loads(data.replace(\"'\",\"\\\"\"))\n",
    "print(doubleQProfile)"
   ]
  },
  {
   "cell_type": "code",
   "execution_count": 93,
   "id": "86913bad-3fb4-4b6e-935e-144b594b568b",
   "metadata": {},
   "outputs": [
    {
     "data": {
      "text/plain": [
       "17"
      ]
     },
     "execution_count": 93,
     "metadata": {},
     "output_type": "execute_result"
    }
   ],
   "source": [
    "len(listOfProfile)"
   ]
  },
  {
   "cell_type": "code",
   "execution_count": 94,
   "id": "4334bb20-3599-4688-a84d-b14d8e0f98c4",
   "metadata": {},
   "outputs": [
    {
     "name": "stdout",
     "output_type": "stream",
     "text": [
      "8th has error\n",
      "mean\n",
      "20.0\n"
     ]
    }
   ],
   "source": [
    "sumAll = 0\n",
    "for i in range(len(listOfProfile)):\n",
    "    try:\n",
    "        sumAll+=listOfProfile[i][\"age\"]\n",
    "    except:\n",
    "        print(str(i)+\"th has error\")\n",
    "print('mean')\n",
    "print(sumAll/len(listOfProfile))\n",
    "    "
   ]
  },
  {
   "cell_type": "code",
   "execution_count": 95,
   "id": "7afde9fc-a2cb-46b6-aca1-2be3ff6c53a9",
   "metadata": {},
   "outputs": [
    {
     "data": {
      "text/html": [
       "<div>\n",
       "<style scoped>\n",
       "    .dataframe tbody tr th:only-of-type {\n",
       "        vertical-align: middle;\n",
       "    }\n",
       "\n",
       "    .dataframe tbody tr th {\n",
       "        vertical-align: top;\n",
       "    }\n",
       "\n",
       "    .dataframe thead th {\n",
       "        text-align: right;\n",
       "    }\n",
       "</style>\n",
       "<table border=\"1\" class=\"dataframe\">\n",
       "  <thead>\n",
       "    <tr style=\"text-align: right;\">\n",
       "      <th></th>\n",
       "      <th>tconst</th>\n",
       "      <th>averageRating</th>\n",
       "      <th>numVotes</th>\n",
       "    </tr>\n",
       "  </thead>\n",
       "  <tbody>\n",
       "    <tr>\n",
       "      <th>0</th>\n",
       "      <td>tt0000001</td>\n",
       "      <td>5.7</td>\n",
       "      <td>2103</td>\n",
       "    </tr>\n",
       "    <tr>\n",
       "      <th>1</th>\n",
       "      <td>tt0000002</td>\n",
       "      <td>5.6</td>\n",
       "      <td>282</td>\n",
       "    </tr>\n",
       "    <tr>\n",
       "      <th>2</th>\n",
       "      <td>tt0000003</td>\n",
       "      <td>6.5</td>\n",
       "      <td>2122</td>\n",
       "    </tr>\n",
       "    <tr>\n",
       "      <th>3</th>\n",
       "      <td>tt0000004</td>\n",
       "      <td>5.4</td>\n",
       "      <td>182</td>\n",
       "    </tr>\n",
       "    <tr>\n",
       "      <th>4</th>\n",
       "      <td>tt0000005</td>\n",
       "      <td>6.2</td>\n",
       "      <td>2852</td>\n",
       "    </tr>\n",
       "    <tr>\n",
       "      <th>...</th>\n",
       "      <td>...</td>\n",
       "      <td>...</td>\n",
       "      <td>...</td>\n",
       "    </tr>\n",
       "    <tr>\n",
       "      <th>1503082</th>\n",
       "      <td>tt9916730</td>\n",
       "      <td>7.0</td>\n",
       "      <td>12</td>\n",
       "    </tr>\n",
       "    <tr>\n",
       "      <th>1503083</th>\n",
       "      <td>tt9916766</td>\n",
       "      <td>7.1</td>\n",
       "      <td>24</td>\n",
       "    </tr>\n",
       "    <tr>\n",
       "      <th>1503084</th>\n",
       "      <td>tt9916778</td>\n",
       "      <td>7.2</td>\n",
       "      <td>37</td>\n",
       "    </tr>\n",
       "    <tr>\n",
       "      <th>1503085</th>\n",
       "      <td>tt9916840</td>\n",
       "      <td>6.9</td>\n",
       "      <td>11</td>\n",
       "    </tr>\n",
       "    <tr>\n",
       "      <th>1503086</th>\n",
       "      <td>tt9916880</td>\n",
       "      <td>7.9</td>\n",
       "      <td>9</td>\n",
       "    </tr>\n",
       "  </tbody>\n",
       "</table>\n",
       "<p>1503087 rows × 3 columns</p>\n",
       "</div>"
      ],
      "text/plain": [
       "            tconst  averageRating  numVotes\n",
       "0        tt0000001            5.7      2103\n",
       "1        tt0000002            5.6       282\n",
       "2        tt0000003            6.5      2122\n",
       "3        tt0000004            5.4       182\n",
       "4        tt0000005            6.2      2852\n",
       "...            ...            ...       ...\n",
       "1503082  tt9916730            7.0        12\n",
       "1503083  tt9916766            7.1        24\n",
       "1503084  tt9916778            7.2        37\n",
       "1503085  tt9916840            6.9        11\n",
       "1503086  tt9916880            7.9         9\n",
       "\n",
       "[1503087 rows x 3 columns]"
      ]
     },
     "metadata": {},
     "output_type": "display_data"
    }
   ],
   "source": [
    "import pandas as pd\n",
    "filePath='title.ratings.tsv'\n",
    "maineFileImdb= pd.read_csv(filePath, delimiter='\\t')\n",
    "display(maineFileImdb)"
   ]
  },
  {
   "cell_type": "code",
   "execution_count": 100,
   "id": "39ae0294-828f-46da-8d0e-9ad9c11f90fd",
   "metadata": {},
   "outputs": [
    {
     "data": {
      "text/html": [
       "<div>\n",
       "<style scoped>\n",
       "    .dataframe tbody tr th:only-of-type {\n",
       "        vertical-align: middle;\n",
       "    }\n",
       "\n",
       "    .dataframe tbody tr th {\n",
       "        vertical-align: top;\n",
       "    }\n",
       "\n",
       "    .dataframe thead th {\n",
       "        text-align: right;\n",
       "    }\n",
       "</style>\n",
       "<table border=\"1\" class=\"dataframe\">\n",
       "  <thead>\n",
       "    <tr style=\"text-align: right;\">\n",
       "      <th></th>\n",
       "      <th>tconst</th>\n",
       "      <th>averageRating</th>\n",
       "      <th>numVotes</th>\n",
       "    </tr>\n",
       "  </thead>\n",
       "  <tbody>\n",
       "    <tr>\n",
       "      <th>78058</th>\n",
       "      <td>tt0103649</td>\n",
       "      <td>10.0</td>\n",
       "      <td>13</td>\n",
       "    </tr>\n",
       "    <tr>\n",
       "      <th>96240</th>\n",
       "      <td>tt0127236</td>\n",
       "      <td>10.0</td>\n",
       "      <td>23</td>\n",
       "    </tr>\n",
       "    <tr>\n",
       "      <th>104552</th>\n",
       "      <td>tt0143979</td>\n",
       "      <td>10.0</td>\n",
       "      <td>5</td>\n",
       "    </tr>\n",
       "    <tr>\n",
       "      <th>125597</th>\n",
       "      <td>tt0183268</td>\n",
       "      <td>10.0</td>\n",
       "      <td>13</td>\n",
       "    </tr>\n",
       "    <tr>\n",
       "      <th>126540</th>\n",
       "      <td>tt0184926</td>\n",
       "      <td>10.0</td>\n",
       "      <td>12</td>\n",
       "    </tr>\n",
       "    <tr>\n",
       "      <th>...</th>\n",
       "      <td>...</td>\n",
       "      <td>...</td>\n",
       "      <td>...</td>\n",
       "    </tr>\n",
       "    <tr>\n",
       "      <th>1498965</th>\n",
       "      <td>tt9805198</td>\n",
       "      <td>10.0</td>\n",
       "      <td>15</td>\n",
       "    </tr>\n",
       "    <tr>\n",
       "      <th>1498968</th>\n",
       "      <td>tt9805208</td>\n",
       "      <td>10.0</td>\n",
       "      <td>12</td>\n",
       "    </tr>\n",
       "    <tr>\n",
       "      <th>1498970</th>\n",
       "      <td>tt9805258</td>\n",
       "      <td>10.0</td>\n",
       "      <td>5</td>\n",
       "    </tr>\n",
       "    <tr>\n",
       "      <th>1501090</th>\n",
       "      <td>tt9866444</td>\n",
       "      <td>10.0</td>\n",
       "      <td>8</td>\n",
       "    </tr>\n",
       "    <tr>\n",
       "      <th>1501973</th>\n",
       "      <td>tt9889628</td>\n",
       "      <td>10.0</td>\n",
       "      <td>5</td>\n",
       "    </tr>\n",
       "  </tbody>\n",
       "</table>\n",
       "<p>6416 rows × 3 columns</p>\n",
       "</div>"
      ],
      "text/plain": [
       "            tconst  averageRating  numVotes\n",
       "78058    tt0103649           10.0        13\n",
       "96240    tt0127236           10.0        23\n",
       "104552   tt0143979           10.0         5\n",
       "125597   tt0183268           10.0        13\n",
       "126540   tt0184926           10.0        12\n",
       "...            ...            ...       ...\n",
       "1498965  tt9805198           10.0        15\n",
       "1498968  tt9805208           10.0        12\n",
       "1498970  tt9805258           10.0         5\n",
       "1501090  tt9866444           10.0         8\n",
       "1501973  tt9889628           10.0         5\n",
       "\n",
       "[6416 rows x 3 columns]"
      ]
     },
     "metadata": {},
     "output_type": "display_data"
    }
   ],
   "source": [
    "maxScore=maineFileImdb['averageRating'].max()\n",
    "topScore=maineFileImdb[maineFileImdb['averageRating']==maxScore]\n",
    "display(topScore)"
   ]
  },
  {
   "cell_type": "code",
   "execution_count": 101,
   "id": "e3f2fa3f-7a79-4c4a-b04d-d141033bb7e9",
   "metadata": {},
   "outputs": [
    {
     "data": {
      "text/html": [
       "<div>\n",
       "<style scoped>\n",
       "    .dataframe tbody tr th:only-of-type {\n",
       "        vertical-align: middle;\n",
       "    }\n",
       "\n",
       "    .dataframe tbody tr th {\n",
       "        vertical-align: top;\n",
       "    }\n",
       "\n",
       "    .dataframe thead th {\n",
       "        text-align: right;\n",
       "    }\n",
       "</style>\n",
       "<table border=\"1\" class=\"dataframe\">\n",
       "  <thead>\n",
       "    <tr style=\"text-align: right;\">\n",
       "      <th></th>\n",
       "      <th>tconst</th>\n",
       "      <th>averageRating</th>\n",
       "      <th>numVotes</th>\n",
       "    </tr>\n",
       "  </thead>\n",
       "  <tbody>\n",
       "    <tr>\n",
       "      <th>84328</th>\n",
       "      <td>tt0111161</td>\n",
       "      <td>9.3</td>\n",
       "      <td>2966619</td>\n",
       "    </tr>\n",
       "  </tbody>\n",
       "</table>\n",
       "</div>"
      ],
      "text/plain": [
       "          tconst  averageRating  numVotes\n",
       "84328  tt0111161            9.3   2966619"
      ]
     },
     "metadata": {},
     "output_type": "display_data"
    }
   ],
   "source": [
    "maxVote=maineFileImdb['numVotes'].max()\n",
    "topVote=maineFileImdb[maineFileImdb['numVotes']==maxVote]\n",
    "display(topVote)"
   ]
  },
  {
   "cell_type": "code",
   "execution_count": null,
   "id": "af264e41-cfd6-4090-a866-4eb17eb4717c",
   "metadata": {},
   "outputs": [],
   "source": []
  }
 ],
 "metadata": {
  "kernelspec": {
   "display_name": "Python 3 (ipykernel)",
   "language": "python",
   "name": "python3"
  },
  "language_info": {
   "codemirror_mode": {
    "name": "ipython",
    "version": 3
   },
   "file_extension": ".py",
   "mimetype": "text/x-python",
   "name": "python",
   "nbconvert_exporter": "python",
   "pygments_lexer": "ipython3",
   "version": "3.12.4"
  }
 },
 "nbformat": 4,
 "nbformat_minor": 5
}
