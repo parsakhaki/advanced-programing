{
 "cells": [
  {
   "cell_type": "code",
   "execution_count": 2,
   "id": "2892fa8a-966b-487a-b1c4-6919e77d0498",
   "metadata": {},
   "outputs": [
    {
     "name": "stdout",
     "output_type": "stream",
     "text": [
      "10\n"
     ]
    }
   ],
   "source": [
    "def sum_of_list(int_list):\n",
    "    return sum(int_list)\n",
    "int_list = [1,2,3,4]\n",
    "output = sum_of_list(int_list)\n",
    "print(output)\n"
   ]
  },
  {
   "cell_type": "code",
   "execution_count": 4,
   "id": "e807d8b8-911e-4e97-90ab-0947206d5bf3",
   "metadata": {},
   "outputs": [
    {
     "name": "stdout",
     "output_type": "stream",
     "text": [
      "True\n"
     ]
    }
   ],
   "source": [
    "def check_key(dictionary, key):\n",
    "    return key in dictionary\n",
    "exists = check_key({'a':1, 'b':2},'a')\n",
    "print(exists)"
   ]
  },
  {
   "cell_type": "code",
   "execution_count": 6,
   "id": "dcc6fa67-350e-44d3-bbb8-7df57d479003",
   "metadata": {},
   "outputs": [
    {
     "name": "stdout",
     "output_type": "stream",
     "text": [
      "asrap\n"
     ]
    }
   ],
   "source": [
    "def reverse_string(s):\n",
    "    return s[::-1]\n",
    "reverse_str = reverse_string(\"parsa\")\n",
    "print(reverse_str)"
   ]
  },
  {
   "cell_type": "code",
   "execution_count": null,
   "id": "506ccf50-0ed1-4d01-b751-3b0b49281200",
   "metadata": {},
   "outputs": [],
   "source": []
  }
 ],
 "metadata": {
  "kernelspec": {
   "display_name": "Python 3 (ipykernel)",
   "language": "python",
   "name": "python3"
  },
  "language_info": {
   "codemirror_mode": {
    "name": "ipython",
    "version": 3
   },
   "file_extension": ".py",
   "mimetype": "text/x-python",
   "name": "python",
   "nbconvert_exporter": "python",
   "pygments_lexer": "ipython3",
   "version": "3.12.4"
  }
 },
 "nbformat": 4,
 "nbformat_minor": 5
}
